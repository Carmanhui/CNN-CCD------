{
 "cells": [
  {
   "cell_type": "code",
   "execution_count": 1,
   "metadata": {},
   "outputs": [],
   "source": [
    "# 导入必要的软件包\n",
    "import datetime\n",
    "import imutils\n",
    "import time\n",
    "import cv2\n",
    " \n",
    "camera = cv2.VideoCapture(0)\n",
    "time.sleep(0.25)\n",
    "\n",
    "firstFrame = None\n",
    "\n",
    "\n",
    "# 遍历视频的每一帧\n",
    "while True:\n",
    "    # 获取当前帧并初始化occupied/unoccupied文本\n",
    "    (grabbed, frame) = camera.read()\n",
    "    text = \"Unoccupied\"\n",
    " \n",
    "    # 如果不能抓取到一帧，说明我们到了视频的结尾\n",
    "    if not grabbed:\n",
    "        break\n",
    " \n",
    "    # 调整该帧的大小，转换为灰阶图像并且对其进行高斯模糊\n",
    "    frame = imutils.resize(frame, width=500)\n",
    "    gray = cv2.cvtColor(frame, cv2.COLOR_BGR2GRAY)\n",
    "    gray = cv2.GaussianBlur(gray, (21, 21), 0)\n",
    "    \n",
    "    # 如果第一帧是None，对其进行初始化\n",
    "    if firstFrame is None:\n",
    "        firstFrame = gray\n",
    "        continue\n",
    "\n",
    "    (x, y, w, h) = (0, 0, gray.shape[0], gray.shape[1])\n",
    "#     cv2.rectangle(frame, (x, y), (x + w, y + h), (0, 255, 0), 2)\n",
    "#     text = \"Occupied\"\n",
    "\n",
    "# draw the text and timestamp on the frame\n",
    "    # 在当前帧上写文字以及时间戳\n",
    "    cv2.putText(frame, \"Room Status: {}\".format(text), (10, 20),\n",
    "        cv2.FONT_HERSHEY_SIMPLEX, 0.5, (0, 0, 255), 2)\n",
    " \n",
    "    #显示当前帧并记录用户是否按下按键\n",
    "    cv2.imshow(\"Security Feed\", frame)\n",
    "#     cv2.imshow(\"Thresh\", thresh)\n",
    "#     cv2.imshow(\"Frame Delta\", frameDelta)\n",
    "    key = cv2.waitKey(1)\n",
    " \n",
    "    # 如果q键被按下，跳出循环\n",
    "    if key == ord(\"q\"):\n",
    "        break\n",
    "        \n",
    " # 清理摄像机资源并关闭打开的窗口\n",
    "camera.release()\n",
    "cv2.destroyAllWindows()"
   ]
  },
  {
   "cell_type": "code",
   "execution_count": null,
   "metadata": {},
   "outputs": [],
   "source": []
  },
  {
   "cell_type": "code",
   "execution_count": null,
   "metadata": {},
   "outputs": [],
   "source": []
  }
 ],
 "metadata": {
  "kernelspec": {
   "display_name": "Python 3",
   "language": "python",
   "name": "python3"
  },
  "language_info": {
   "codemirror_mode": {
    "name": "ipython",
    "version": 3
   },
   "file_extension": ".py",
   "mimetype": "text/x-python",
   "name": "python",
   "nbconvert_exporter": "python",
   "pygments_lexer": "ipython3",
   "version": "3.6.5"
  }
 },
 "nbformat": 4,
 "nbformat_minor": 2
}
