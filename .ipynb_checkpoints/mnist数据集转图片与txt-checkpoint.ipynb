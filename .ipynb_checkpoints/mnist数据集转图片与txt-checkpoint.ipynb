{
 "cells": [
  {
   "cell_type": "code",
   "execution_count": 1,
   "metadata": {},
   "outputs": [
    {
     "name": "stderr",
     "output_type": "stream",
     "text": [
      "Using TensorFlow backend.\n"
     ]
    }
   ],
   "source": [
    "# -*- coding: UTF-8 -*-\n",
    " \n",
    "#把mnist数据集转成图片做测试，图片更为通用\n",
    " \n",
    "import cv2  \n",
    "from keras.datasets import mnist\n",
    " \n",
    "import numpy as np  \n",
    " \n",
    "(X_train, Y_train),(X_test, Y_test) = mnist.load_data()\n",
    " \n",
    "# for i in range(0,59999):  # 迭代 0 到 59999 之间的数字\n",
    "#    fileName=\"./mnisttrain/\"+str(Y_train[i])+\"-\"+str(i)+\".bmp\"\n",
    "#    cv2.imwrite(fileName, X_train[i])\n",
    " \n",
    "for i in range(0,9999):  # 迭代 0 到 9999 之间的数字\n",
    "    fileName=\"./mnist/\"+str(Y_test[i])+\"-\"+str(i)+\".jpg\"\n",
    "    cv2.imwrite(fileName, X_test[i])\n"
   ]
  },
  {
   "cell_type": "code",
   "execution_count": null,
   "metadata": {},
   "outputs": [],
   "source": []
  },
  {
   "cell_type": "code",
   "execution_count": null,
   "metadata": {},
   "outputs": [],
   "source": []
  },
  {
   "cell_type": "code",
   "execution_count": null,
   "metadata": {},
   "outputs": [],
   "source": []
  },
  {
   "cell_type": "code",
   "execution_count": null,
   "metadata": {},
   "outputs": [],
   "source": []
  },
  {
   "cell_type": "code",
   "execution_count": 3,
   "metadata": {},
   "outputs": [
    {
     "ename": "ModuleNotFoundError",
     "evalue": "No module named 'torchvision'",
     "output_type": "error",
     "traceback": [
      "\u001b[1;31m---------------------------------------------------------------------------\u001b[0m",
      "\u001b[1;31mModuleNotFoundError\u001b[0m                       Traceback (most recent call last)",
      "\u001b[1;32m<ipython-input-3-a7738eca4cd5>\u001b[0m in \u001b[0;36m<module>\u001b[1;34m()\u001b[0m\n\u001b[0;32m      1\u001b[0m \u001b[1;32mimport\u001b[0m \u001b[0mos\u001b[0m\u001b[1;33m\u001b[0m\u001b[0m\n\u001b[0;32m      2\u001b[0m \u001b[1;32mfrom\u001b[0m \u001b[0mskimage\u001b[0m \u001b[1;32mimport\u001b[0m \u001b[0mio\u001b[0m\u001b[1;33m\u001b[0m\u001b[0m\n\u001b[1;32m----> 3\u001b[1;33m \u001b[1;32mimport\u001b[0m \u001b[0mtorchvision\u001b[0m\u001b[1;33m.\u001b[0m\u001b[0mdatasets\u001b[0m\u001b[1;33m.\u001b[0m\u001b[0mmnist\u001b[0m \u001b[1;32mas\u001b[0m \u001b[0mmnist\u001b[0m\u001b[1;33m\u001b[0m\u001b[0m\n\u001b[0m\u001b[0;32m      4\u001b[0m \u001b[1;32mimport\u001b[0m \u001b[0mnumpy\u001b[0m\u001b[1;33m\u001b[0m\u001b[0m\n\u001b[0;32m      5\u001b[0m \u001b[0mroot\u001b[0m \u001b[1;33m=\u001b[0m \u001b[1;34m\"./mnist/\"\u001b[0m\u001b[1;33m\u001b[0m\u001b[0m\n",
      "\u001b[1;31mModuleNotFoundError\u001b[0m: No module named 'torchvision'"
     ]
    }
   ],
   "source": [
    "import os\n",
    "from skimage import io\n",
    "import torchvision.datasets.mnist as mnist\n",
    "import numpy \n",
    "root = \"./mnist/\"\n",
    "  \n",
    "test_set = (\n",
    "  mnist.read_image_file(os.path.join(root,'t10k-images-idx3-ubyte')),\n",
    "  mnist.read_label_file(os.path.join(root,'t10k-labels-idx1-ubyte'))\n",
    ")\n",
    "  \n",
    "print(\"train set:\", train_set[0].size())\n",
    "print(\"test set:\", test_set[0].size())\n",
    "  \n",
    "def convert_to_img():\n",
    "    f = open(root + 'test.txt', 'w')\n",
    "    data_path = root + '/test/'\n",
    "    if (not os.path.exists(data_path)):\n",
    "        os.makedirs(data_path)\n",
    "    for i, (img, label) in enumerate(zip(test_set[0], test_set[1])):\n",
    "        img_path = data_path + str(i) + '.jpg'\n",
    "        io.imsave(img_path, img.numpy())\n",
    "        int_label = str(label).replace('tensor(', '')\n",
    "        int_label = int_label.replace(')', '')\n",
    "        f.write(img_path + ' ' + str(int_label) + '\\n')\n",
    "    f.close()\n",
    "    \n",
    "convert_to_img()\n"
   ]
  },
  {
   "cell_type": "code",
   "execution_count": null,
   "metadata": {},
   "outputs": [],
   "source": []
  },
  {
   "cell_type": "code",
   "execution_count": null,
   "metadata": {},
   "outputs": [],
   "source": []
  },
  {
   "cell_type": "code",
   "execution_count": null,
   "metadata": {},
   "outputs": [],
   "source": []
  },
  {
   "cell_type": "code",
   "execution_count": null,
   "metadata": {},
   "outputs": [],
   "source": []
  },
  {
   "cell_type": "code",
   "execution_count": null,
   "metadata": {},
   "outputs": [],
   "source": []
  },
  {
   "cell_type": "code",
   "execution_count": null,
   "metadata": {},
   "outputs": [],
   "source": [
    "import os\n",
    "from skimage import io\n",
    "import torchvision.datasets.mnist as mnist\n",
    "import numpy \n",
    "root = \"./mnist/raw/\"\n",
    "train_set = (\n",
    "  mnist.read_image_file(os.path.join(root, 'train-images-idx3-ubyte')),\n",
    "  mnist.read_label_file(os.path.join(root, 'train-labels-idx1-ubyte'))\n",
    ")\n",
    "  \n",
    "test_set = (\n",
    "  mnist.read_image_file(os.path.join(root,'t10k-images-idx3-ubyte')),\n",
    "  mnist.read_label_file(os.path.join(root,'t10k-labels-idx1-ubyte'))\n",
    ")\n",
    "  \n",
    "print(\"train set:\", train_set[0].size())\n",
    "print(\"test set:\", test_set[0].size())\n",
    "  \n",
    "def convert_to_img(train=True):\n",
    "  if(train):\n",
    "    f = open(root + 'train.txt', 'w')\n",
    "    data_path = root + '/train/'\n",
    "    if(not os.path.exists(data_path)):\n",
    "      os.makedirs(data_path)\n",
    "    for i, (img, label) in enumerate(zip(train_set[0], train_set[1])):\n",
    "      img_path = data_path + str(i) + '.jpg'\n",
    "      io.imsave(img_path, img.numpy())\n",
    "      int_label = str(label).replace('tensor(', '')\n",
    "      int_label = int_label.replace(')', '')\n",
    "      f.write(img_path + ' ' + str(int_label) + '\\n')\n",
    "    f.close()\n",
    "  else:\n",
    "    f = open(root + 'test.txt', 'w')\n",
    "    data_path = root + '/test/'\n",
    "    if (not os.path.exists(data_path)):\n",
    "      os.makedirs(data_path)\n",
    "    for i, (img, label) in enumerate(zip(test_set[0], test_set[1])):\n",
    "      img_path = data_path + str(i) + '.jpg'\n",
    "      io.imsave(img_path, img.numpy())\n",
    "      int_label = str(label).replace('tensor(', '')\n",
    "      int_label = int_label.replace(')', '')\n",
    "      f.write(img_path + ' ' + str(int_label) + '\\n')\n",
    "    f.close()\n",
    "  \n",
    "convert_to_img(True)\n",
    "convert_to_img(False)\n"
   ]
  }
 ],
 "metadata": {
  "kernelspec": {
   "display_name": "Python 3",
   "language": "python",
   "name": "python3"
  },
  "language_info": {
   "codemirror_mode": {
    "name": "ipython",
    "version": 3
   },
   "file_extension": ".py",
   "mimetype": "text/x-python",
   "name": "python",
   "nbconvert_exporter": "python",
   "pygments_lexer": "ipython3",
   "version": "3.6.5"
  }
 },
 "nbformat": 4,
 "nbformat_minor": 2
}
